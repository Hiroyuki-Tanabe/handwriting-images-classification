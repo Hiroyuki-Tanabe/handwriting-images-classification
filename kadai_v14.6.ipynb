{
 "cells": [
  {
   "cell_type": "markdown",
   "metadata": {},
   "source": [
    "## データ拡張24000枚\n",
    "### 新記録　98.87%"
   ]
  },
  {
   "cell_type": "code",
   "execution_count": 1,
   "metadata": {},
   "outputs": [],
   "source": [
    "import numpy as np"
   ]
  },
  {
   "cell_type": "code",
   "execution_count": 2,
   "metadata": {},
   "outputs": [
    {
     "name": "stderr",
     "output_type": "stream",
     "text": [
      "Using TensorFlow backend.\n"
     ]
    }
   ],
   "source": [
    "import matplotlib\n",
    "import matplotlib.pyplot as plt\n",
    "from keras.preprocessing import image\n",
    "from keras.preprocessing.image import ImageDataGenerator"
   ]
  },
  {
   "cell_type": "code",
   "execution_count": 3,
   "metadata": {},
   "outputs": [
    {
     "name": "stdout",
     "output_type": "stream",
     "text": [
      "(3000, 1, 28, 28)\n",
      "(3000, 15)\n"
     ]
    }
   ],
   "source": [
    "# データの読み込み\n",
    "train_data = np.load(\"train_data.npy\")\n",
    "train_label = np.load(\"train_label.npy\")\n",
    "print(train_data.shape)\n",
    "print(train_label.shape)"
   ]
  },
  {
   "cell_type": "code",
   "execution_count": 4,
   "metadata": {},
   "outputs": [
    {
     "name": "stdout",
     "output_type": "stream",
     "text": [
      "(2400, 1, 28, 28)\n",
      "(600, 1, 28, 28)\n",
      "(2400, 15)\n",
      "(600, 15)\n"
     ]
    }
   ],
   "source": [
    "# ランダムスプリット\n",
    "from sklearn.model_selection import train_test_split\n",
    "\n",
    "X_train, X_test, y_train, y_test = train_test_split(train_data, train_label,train_size=0.8)\n",
    "print(X_train.shape)\n",
    "print(X_test.shape)\n",
    "print(y_train.shape)\n",
    "print(y_test.shape)"
   ]
  },
  {
   "cell_type": "code",
   "execution_count": 5,
   "metadata": {},
   "outputs": [],
   "source": [
    "X_train = (X_train - X_train.min()) / X_train.max()"
   ]
  },
  {
   "cell_type": "code",
   "execution_count": 6,
   "metadata": {},
   "outputs": [
    {
     "data": {
      "text/plain": [
       "(2400, 28, 28, 1)"
      ]
     },
     "execution_count": 6,
     "metadata": {},
     "output_type": "execute_result"
    }
   ],
   "source": [
    "X_train = X_train.reshape(-1,28,28,1)\n",
    "X_train.shape"
   ]
  },
  {
   "cell_type": "code",
   "execution_count": 7,
   "metadata": {},
   "outputs": [],
   "source": [
    "datagen = ImageDataGenerator(\n",
    "           rotation_range=0.1,\n",
    "           width_shift_range=0.2,\n",
    "           height_shift_range=0.2,\n",
    "           shear_range=0.2,\n",
    "           zoom_range=0.1,\n",
    "           horizontal_flip=False,\n",
    "           vertical_flip=False)"
   ]
  },
  {
   "cell_type": "code",
   "execution_count": 8,
   "metadata": {},
   "outputs": [],
   "source": [
    "datagen2 = ImageDataGenerator(\n",
    "           rotation_range=0.1,\n",
    "           width_shift_range=0.1,\n",
    "           height_shift_range=0.1,\n",
    "           shear_range=0.1,\n",
    "           zoom_range=0.1,\n",
    "           horizontal_flip=False,\n",
    "           vertical_flip=False)"
   ]
  },
  {
   "cell_type": "code",
   "execution_count": 9,
   "metadata": {},
   "outputs": [
    {
     "name": "stdout",
     "output_type": "stream",
     "text": [
      "(2400, 28, 28, 1)\n",
      "(2400, 15)\n"
     ]
    }
   ],
   "source": [
    "X_gen = datagen.flow(X_train, y_train, batch_size=2400)\n",
    "X_gen_new, y_gen_new = X_gen.__next__()\n",
    "print(X_gen_new.shape)\n",
    "print(y_gen_new.shape)"
   ]
  },
  {
   "cell_type": "code",
   "execution_count": 10,
   "metadata": {},
   "outputs": [
    {
     "name": "stdout",
     "output_type": "stream",
     "text": [
      "(2400, 28, 28, 1)\n",
      "(2400, 15)\n"
     ]
    }
   ],
   "source": [
    "X_gen2 = datagen2.flow(X_train, y_train, batch_size=2400)\n",
    "X_gen_new2, y_gen_new2 = X_gen2.__next__()\n",
    "print(X_gen_new2.shape)\n",
    "print(y_gen_new2.shape)"
   ]
  },
  {
   "cell_type": "code",
   "execution_count": 11,
   "metadata": {},
   "outputs": [
    {
     "name": "stdout",
     "output_type": "stream",
     "text": [
      "(2400, 28, 28, 1)\n",
      "(2400, 15)\n"
     ]
    }
   ],
   "source": [
    "X_gen3 = datagen.flow(X_train, y_train, batch_size=2400)\n",
    "X_gen_new3, y_gen_new3 = X_gen3.__next__()\n",
    "print(X_gen_new3.shape)\n",
    "print(y_gen_new3.shape)"
   ]
  },
  {
   "cell_type": "code",
   "execution_count": 12,
   "metadata": {},
   "outputs": [
    {
     "name": "stdout",
     "output_type": "stream",
     "text": [
      "(2400, 28, 28, 1)\n",
      "(2400, 15)\n"
     ]
    }
   ],
   "source": [
    "X_gen4 = datagen2.flow(X_train, y_train, batch_size=2400)\n",
    "X_gen_new4, y_gen_new4 = X_gen4.__next__()\n",
    "print(X_gen_new4.shape)\n",
    "print(y_gen_new4.shape)"
   ]
  },
  {
   "cell_type": "code",
   "execution_count": 13,
   "metadata": {},
   "outputs": [
    {
     "name": "stdout",
     "output_type": "stream",
     "text": [
      "(2400, 28, 28, 1)\n",
      "(2400, 15)\n"
     ]
    }
   ],
   "source": [
    "X_gen5 = datagen.flow(X_train, y_train, batch_size=2400)\n",
    "X_gen_new5, y_gen_new5 = X_gen5.__next__()\n",
    "print(X_gen_new5.shape)\n",
    "print(y_gen_new5.shape)"
   ]
  },
  {
   "cell_type": "code",
   "execution_count": 14,
   "metadata": {},
   "outputs": [
    {
     "name": "stdout",
     "output_type": "stream",
     "text": [
      "(2400, 28, 28, 1)\n",
      "(2400, 15)\n"
     ]
    }
   ],
   "source": [
    "X_gen6 = datagen2.flow(X_train, y_train, batch_size=2400)\n",
    "X_gen_new6, y_gen_new6 = X_gen6.__next__()\n",
    "print(X_gen_new6.shape)\n",
    "print(y_gen_new6.shape)"
   ]
  },
  {
   "cell_type": "code",
   "execution_count": 15,
   "metadata": {},
   "outputs": [
    {
     "name": "stdout",
     "output_type": "stream",
     "text": [
      "(2400, 28, 28, 1)\n",
      "(2400, 15)\n"
     ]
    }
   ],
   "source": [
    "X_gen7 = datagen.flow(X_train, y_train, batch_size=2400)\n",
    "X_gen_new7, y_gen_new7 = X_gen7.__next__()\n",
    "print(X_gen_new7.shape)\n",
    "print(y_gen_new7.shape)"
   ]
  },
  {
   "cell_type": "code",
   "execution_count": 16,
   "metadata": {},
   "outputs": [
    {
     "name": "stdout",
     "output_type": "stream",
     "text": [
      "(2400, 28, 28, 1)\n",
      "(2400, 15)\n"
     ]
    }
   ],
   "source": [
    "X_gen8 = datagen2.flow(X_train, y_train, batch_size=2400)\n",
    "X_gen_new8, y_gen_new8 = X_gen8.__next__()\n",
    "print(X_gen_new8.shape)\n",
    "print(y_gen_new8.shape)"
   ]
  },
  {
   "cell_type": "code",
   "execution_count": 17,
   "metadata": {},
   "outputs": [
    {
     "name": "stdout",
     "output_type": "stream",
     "text": [
      "(2400, 28, 28, 1)\n",
      "(2400, 15)\n"
     ]
    }
   ],
   "source": [
    "X_gen9 = datagen.flow(X_train, y_train, batch_size=2400)\n",
    "X_gen_new9, y_gen_new9 = X_gen9.__next__()\n",
    "print(X_gen_new9.shape)\n",
    "print(y_gen_new9.shape)"
   ]
  },
  {
   "cell_type": "code",
   "execution_count": 18,
   "metadata": {},
   "outputs": [
    {
     "name": "stdout",
     "output_type": "stream",
     "text": [
      "(2400, 28, 28, 1)\n",
      "(2400, 15)\n"
     ]
    }
   ],
   "source": [
    "X_gen10 = datagen2.flow(X_train, y_train, batch_size=2400)\n",
    "X_gen_new10, y_gen_new10 = X_gen10.__next__()\n",
    "print(X_gen_new10.shape)\n",
    "print(y_gen_new10.shape)"
   ]
  },
  {
   "cell_type": "code",
   "execution_count": 32,
   "metadata": {},
   "outputs": [
    {
     "name": "stdout",
     "output_type": "stream",
     "text": [
      "(28800, 15)\n"
     ]
    }
   ],
   "source": [
    "y_train2 = np.concatenate([y_train, y_gen_new,y_gen_new2,y_gen_new3,y_gen_new4,y_gen_new5,y_gen_new6,y_gen_new7,y_gen_new8,y_gen_new9,y_gen_new10, y_train] )\n",
    "print(y_train2.shape)"
   ]
  },
  {
   "cell_type": "code",
   "execution_count": 31,
   "metadata": {},
   "outputs": [
    {
     "name": "stdout",
     "output_type": "stream",
     "text": [
      "(28800, 28, 28, 1)\n"
     ]
    }
   ],
   "source": [
    "X_train2 = np.concatenate([X_train, X_gen_new,X_gen_new2, X_gen_new3, X_gen_new4, X_gen_new5, X_gen_new6, X_gen_new7, X_gen_new8, X_gen_new9, X_gen_new10,X_train])\n",
    "print(X_train2.shape)"
   ]
  },
  {
   "cell_type": "code",
   "execution_count": 33,
   "metadata": {},
   "outputs": [
    {
     "data": {
      "text/plain": [
       "(600, 28, 28, 1)"
      ]
     },
     "execution_count": 33,
     "metadata": {},
     "output_type": "execute_result"
    }
   ],
   "source": [
    "X_test = X_test.reshape(-1,28,28,1)\n",
    "X_test.shape"
   ]
  },
  {
   "cell_type": "code",
   "execution_count": 34,
   "metadata": {},
   "outputs": [],
   "source": [
    "from keras.models import Sequential\n",
    "from keras.layers import Dense, Dropout, Flatten\n",
    "from keras.layers import Conv2D, MaxPooling2D, AveragePooling2D, GlobalAveragePooling2D\n",
    "from keras.layers import BatchNormalization\n",
    "from keras.callbacks import EarlyStopping"
   ]
  },
  {
   "cell_type": "code",
   "execution_count": 40,
   "metadata": {},
   "outputs": [],
   "source": [
    "model = Sequential()\n",
    "\n",
    "model.add(Conv2D(filters=32, kernel_size=3, padding='same', activation='relu'))\n",
    "model.add(Conv2D(filters=32, kernel_size=3, padding='same', activation='relu'))\n",
    "model.add(MaxPooling2D(pool_size=(2, 2)))\n",
    "model.add(Dropout(0.25))\n",
    "\n",
    "model.add(Conv2D(filters=64, kernel_size=3, padding='same', activation='relu'))\n",
    "model.add(Conv2D(filters=64, kernel_size=3, padding='same', activation='relu'))\n",
    "model.add(MaxPooling2D(pool_size=(2, 2)))\n",
    "model.add(Dropout(0.25))\n",
    "\n",
    "\n",
    "model.add(Conv2D(filters=128, kernel_size=3, padding='same', activation='relu', input_shape=(28, 28,1)))\n",
    "model.add(Conv2D(filters=128, kernel_size=3, padding='same', activation='relu'))\n",
    "model.add(MaxPooling2D(pool_size=(2, 2)))\n",
    "model.add(Dropout(0.25))\n",
    "\n",
    "\n",
    "model.add(GlobalAveragePooling2D())\n",
    "model.add(Dense(256, activation='relu'))\n",
    "model.add(Dropout(0.25))\n",
    "model.add(Dense(15, activation='softmax'))"
   ]
  },
  {
   "cell_type": "code",
   "execution_count": 41,
   "metadata": {
    "scrolled": true
   },
   "outputs": [],
   "source": [
    "from keras.optimizers import Nadam\n",
    "\n",
    "model.compile(loss='categorical_crossentropy',\n",
    "              optimizer=Nadam(),\n",
    "              metrics=['accuracy'])"
   ]
  },
  {
   "cell_type": "code",
   "execution_count": 42,
   "metadata": {
    "scrolled": false
   },
   "outputs": [
    {
     "name": "stdout",
     "output_type": "stream",
     "text": [
      "Train on 28800 samples, validate on 600 samples\n",
      "Epoch 1/15\n",
      "28800/28800 [==============================] - 47s 2ms/step - loss: 1.2465 - acc: 0.5826 - val_loss: 1.7979 - val_acc: 0.8883\n",
      "Epoch 2/15\n",
      "28800/28800 [==============================] - 56s 2ms/step - loss: 0.1705 - acc: 0.9462 - val_loss: 0.4298 - val_acc: 0.9733\n",
      "Epoch 3/15\n",
      "28800/28800 [==============================] - 56s 2ms/step - loss: 0.0794 - acc: 0.9753 - val_loss: 0.5910 - val_acc: 0.9633\n",
      "Epoch 4/15\n",
      "28800/28800 [==============================] - 56s 2ms/step - loss: 0.0611 - acc: 0.9803 - val_loss: 0.5104 - val_acc: 0.9683\n",
      "Epoch 5/15\n",
      "28800/28800 [==============================] - 52s 2ms/step - loss: 0.0559 - acc: 0.9827 - val_loss: 0.7374 - val_acc: 0.9533\n",
      "Epoch 6/15\n",
      "28800/28800 [==============================] - 53s 2ms/step - loss: 0.0404 - acc: 0.9889 - val_loss: 0.5641 - val_acc: 0.9650\n",
      "Epoch 7/15\n",
      "28800/28800 [==============================] - 54s 2ms/step - loss: 0.0373 - acc: 0.9885 - val_loss: 0.4432 - val_acc: 0.9717\n",
      "Epoch 8/15\n",
      "28800/28800 [==============================] - 53s 2ms/step - loss: 0.0445 - acc: 0.9870 - val_loss: 0.2381 - val_acc: 0.9850\n",
      "Epoch 9/15\n",
      "28800/28800 [==============================] - 50s 2ms/step - loss: 0.0332 - acc: 0.9904 - val_loss: 0.3954 - val_acc: 0.9733\n",
      "Epoch 10/15\n",
      "28800/28800 [==============================] - 50s 2ms/step - loss: 0.0326 - acc: 0.9902 - val_loss: 0.4567 - val_acc: 0.9717\n",
      "Epoch 11/15\n",
      "28800/28800 [==============================] - 51s 2ms/step - loss: 0.0243 - acc: 0.9928 - val_loss: 0.3224 - val_acc: 0.9800\n",
      "Epoch 12/15\n",
      "28800/28800 [==============================] - 51s 2ms/step - loss: 0.0476 - acc: 0.9862 - val_loss: 0.1880 - val_acc: 0.9883\n",
      "Epoch 13/15\n",
      "28800/28800 [==============================] - 50s 2ms/step - loss: 0.0319 - acc: 0.9908 - val_loss: 0.2955 - val_acc: 0.9817\n",
      "Epoch 14/15\n",
      "28800/28800 [==============================] - 51s 2ms/step - loss: 0.0263 - acc: 0.9922 - val_loss: 0.3761 - val_acc: 0.9767\n",
      "Epoch 15/15\n",
      "28800/28800 [==============================] - 50s 2ms/step - loss: 0.0227 - acc: 0.9934 - val_loss: 0.2418 - val_acc: 0.9850\n"
     ]
    }
   ],
   "source": [
    "history = model.fit(X_train2, y_train2,\n",
    "                    batch_size= 64,\n",
    "                    epochs=15,\n",
    "                    verbose=1,\n",
    "                    validation_data=(X_test, y_test),\n",
    "                     )"
   ]
  },
  {
   "cell_type": "code",
   "execution_count": 43,
   "metadata": {},
   "outputs": [],
   "source": [
    "model.save('katakana_model.h5')"
   ]
  },
  {
   "cell_type": "code",
   "execution_count": 39,
   "metadata": {},
   "outputs": [
    {
     "name": "stdout",
     "output_type": "stream",
     "text": [
      "_________________________________________________________________\n",
      "Layer (type)                 Output Shape              Param #   \n",
      "=================================================================\n",
      "conv2d_13 (Conv2D)           (None, 28, 28, 16)        160       \n",
      "_________________________________________________________________\n",
      "conv2d_14 (Conv2D)           (None, 28, 28, 16)        2320      \n",
      "_________________________________________________________________\n",
      "max_pooling2d_7 (MaxPooling2 (None, 14, 14, 16)        0         \n",
      "_________________________________________________________________\n",
      "dropout_9 (Dropout)          (None, 14, 14, 16)        0         \n",
      "_________________________________________________________________\n",
      "conv2d_15 (Conv2D)           (None, 14, 14, 32)        4640      \n",
      "_________________________________________________________________\n",
      "conv2d_16 (Conv2D)           (None, 14, 14, 32)        9248      \n",
      "_________________________________________________________________\n",
      "max_pooling2d_8 (MaxPooling2 (None, 7, 7, 32)          0         \n",
      "_________________________________________________________________\n",
      "dropout_10 (Dropout)         (None, 7, 7, 32)          0         \n",
      "_________________________________________________________________\n",
      "conv2d_17 (Conv2D)           (None, 7, 7, 64)          18496     \n",
      "_________________________________________________________________\n",
      "conv2d_18 (Conv2D)           (None, 7, 7, 64)          36928     \n",
      "_________________________________________________________________\n",
      "max_pooling2d_9 (MaxPooling2 (None, 3, 3, 64)          0         \n",
      "_________________________________________________________________\n",
      "dropout_11 (Dropout)         (None, 3, 3, 64)          0         \n",
      "_________________________________________________________________\n",
      "global_average_pooling2d_3 ( (None, 64)                0         \n",
      "_________________________________________________________________\n",
      "dense_5 (Dense)              (None, 256)               16640     \n",
      "_________________________________________________________________\n",
      "dropout_12 (Dropout)         (None, 256)               0         \n",
      "_________________________________________________________________\n",
      "dense_6 (Dense)              (None, 15)                3855      \n",
      "=================================================================\n",
      "Total params: 92,287\n",
      "Trainable params: 92,287\n",
      "Non-trainable params: 0\n",
      "_________________________________________________________________\n"
     ]
    }
   ],
   "source": [
    "model.summary()"
   ]
  },
  {
   "cell_type": "code",
   "execution_count": null,
   "metadata": {},
   "outputs": [],
   "source": []
  }
 ],
 "metadata": {
  "kernelspec": {
   "display_name": "Python 3",
   "language": "python",
   "name": "python3"
  },
  "language_info": {
   "codemirror_mode": {
    "name": "ipython",
    "version": 3
   },
   "file_extension": ".py",
   "mimetype": "text/x-python",
   "name": "python",
   "nbconvert_exporter": "python",
   "pygments_lexer": "ipython3",
   "version": "3.7.4"
  }
 },
 "nbformat": 4,
 "nbformat_minor": 2
}
